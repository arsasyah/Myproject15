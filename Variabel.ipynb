{
  "nbformat": 4,
  "nbformat_minor": 0,
  "metadata": {
    "colab": {
      "provenance": [],
      "authorship_tag": "ABX9TyOYG/+uwHc8/JDREdlWZHMN",
      "include_colab_link": true
    },
    "kernelspec": {
      "name": "python3",
      "display_name": "Python 3"
    },
    "language_info": {
      "name": "python"
    }
  },
  "cells": [
    {
      "cell_type": "markdown",
      "metadata": {
        "id": "view-in-github",
        "colab_type": "text"
      },
      "source": [
        "<a href=\"https://colab.research.google.com/github/arsasyah/Myproject15/blob/main/Variabel.ipynb\" target=\"_parent\"><img src=\"https://colab.research.google.com/assets/colab-badge.svg\" alt=\"Open In Colab\"/></a>"
      ]
    },
    {
      "cell_type": "code",
      "execution_count": 5,
      "metadata": {
        "colab": {
          "base_uri": "https://localhost:8080/"
        },
        "id": "-yQGGl_VAg8t",
        "outputId": "f366de16-d725-410d-c871-987d31708e1d"
      },
      "outputs": [
        {
          "output_type": "stream",
          "name": "stdout",
          "text": [
            "Hari ini Aku makan Bakso\n",
            "Siangnya Aku makan Seblak\n",
            "Malamnya Aku makan Roti Bakar\n",
            "Adam Rizki\n",
            "Yanto\n"
          ]
        }
      ],
      "source": [
        "Makan = \"Hari ini Aku makan Bakso\"\n",
        "Siang = \"Siangnya Aku makan Seblak\"\n",
        "Malam = \"Malamnya Aku makan Roti Bakar\"\n",
        "print(Makan)\n",
        "print(Siang)\n",
        "print(Malam)\n",
        "Nama = \"Adam Rizki\"\n",
        "print(Nama)\n",
        "Nama_depan = \"Yanto\"\n",
        "print(Nama_depan)#Bila Nama Variabel Ditambahkan Simbol Minus, Maka Hasilny akan Error\n",
        "\n"
      ]
    }
  ]
}