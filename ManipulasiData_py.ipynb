{
  "nbformat": 4,
  "nbformat_minor": 0,
  "metadata": {
    "colab": {
      "provenance": [],
      "authorship_tag": "ABX9TyNMFcto4lzNAqI+6zx6oib5",
      "include_colab_link": true
    },
    "kernelspec": {
      "name": "python3",
      "display_name": "Python 3"
    },
    "language_info": {
      "name": "python"
    }
  },
  "cells": [
    {
      "cell_type": "markdown",
      "metadata": {
        "id": "view-in-github",
        "colab_type": "text"
      },
      "source": [
        "<a href=\"https://colab.research.google.com/github/arsasyah/Myproject15/blob/main/ManipulasiData_py.ipynb\" target=\"_parent\"><img src=\"https://colab.research.google.com/assets/colab-badge.svg\" alt=\"Open In Colab\"/></a>"
      ]
    },
    {
      "cell_type": "code",
      "execution_count": 1,
      "metadata": {
        "id": "UyNAmvDurqo7",
        "colab": {
          "base_uri": "https://localhost:8080/"
        },
        "outputId": "c9a7baa0-d4eb-4eeb-d859-47deb5b4767e"
      },
      "outputs": [
        {
          "output_type": "stream",
          "name": "stdout",
          "text": [
            "('Nama:Adam Rizki', 'Umur:18')\n"
          ]
        }
      ],
      "source": [
        "Nama = \"Adam Rizki\"\n",
        "Umur = 18\n",
        "Pesan = \"Nama:\"+Nama,\"Umur:\"+str(Umur)\n",
        "print(Pesan)\n",
        "Nama = \"Jamaluddin\"\n",
        "Umur = 25\n",
        "print(\"Nama\":+Nama,\"Umur:\"+str(Umur))\n"
      ]
    }
  ]
}