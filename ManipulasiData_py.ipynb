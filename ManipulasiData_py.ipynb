{
  "nbformat": 4,
  "nbformat_minor": 0,
  "metadata": {
    "colab": {
      "provenance": [],
      "authorship_tag": "ABX9TyMVU04+LV+7YviCBvT9qmci",
      "include_colab_link": true
    },
    "kernelspec": {
      "name": "python3",
      "display_name": "Python 3"
    },
    "language_info": {
      "name": "python"
    }
  },
  "cells": [
    {
      "cell_type": "markdown",
      "metadata": {
        "id": "view-in-github",
        "colab_type": "text"
      },
      "source": [
        "<a href=\"https://colab.research.google.com/github/arsasyah/Myproject15/blob/main/ManipulasiData_py.ipynb\" target=\"_parent\"><img src=\"https://colab.research.google.com/assets/colab-badge.svg\" alt=\"Open In Colab\"/></a>"
      ]
    },
    {
      "cell_type": "code",
      "execution_count": null,
      "metadata": {
        "id": "UyNAmvDurqo7"
      },
      "outputs": [],
      "source": [
        "Nama = \"Adam Rizki\"\n",
        "Umur = 18\n",
        "Pesan = \"Nama:\"+Nama,\"Umur:\"+str(Umur)"
      ]
    }
  ]
}