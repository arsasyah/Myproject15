{
  "nbformat": 4,
  "nbformat_minor": 0,
  "metadata": {
    "colab": {
      "provenance": [],
      "authorship_tag": "ABX9TyO877UwUVNxgroFs+xMhCry",
      "include_colab_link": true
    },
    "kernelspec": {
      "name": "python3",
      "display_name": "Python 3"
    },
    "language_info": {
      "name": "python"
    }
  },
  "cells": [
    {
      "cell_type": "markdown",
      "metadata": {
        "id": "view-in-github",
        "colab_type": "text"
      },
      "source": [
        "<a href=\"https://colab.research.google.com/github/arsasyah/Myproject15/blob/main/Testing2.ipynb\" target=\"_parent\"><img src=\"https://colab.research.google.com/assets/colab-badge.svg\" alt=\"Open In Colab\"/></a>"
      ]
    },
    {
      "cell_type": "code",
      "execution_count": 1,
      "metadata": {
        "colab": {
          "base_uri": "https://localhost:8080/"
        },
        "id": "DU6fdC10kR_O",
        "outputId": "1eac4814-5a70-4e06-fccc-bbc55594350c"
      },
      "outputs": [
        {
          "output_type": "stream",
          "name": "stdout",
          "text": [
            "Ok Bro, Gue lagi ngoding python nih.\n"
          ]
        }
      ],
      "source": [
        "print(\"Ok Bro, Gue lagi ngoding python nih.\")\n",
        "Gue = \"Ok Bro, Gue lagi testing codingan Gue di Python nih.\"\n",
        "print(Gue)"
      ]
    },
    {
      "cell_type": "code",
      "source": [
        "from google.colab import drive\n",
        "drive.mount('/content/drive')"
      ],
      "metadata": {
        "id": "rmt9vyYVmxIJ"
      },
      "execution_count": null,
      "outputs": []
    }
  ]
}